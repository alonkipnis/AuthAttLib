{
 "cells": [
  {
   "cell_type": "code",
   "execution_count": 35,
   "metadata": {},
   "outputs": [],
   "source": [
    "import pandas as pd\n",
    "\n",
    "from plotnine import *\n",
    "\n",
    "from tqdm import tqdm\n",
    "from matplotlib import pyplot as plt\n",
    "\n",
    "#import auxiliary functions for python\n",
    "import sys\n",
    "\n",
    "sys.path.append('/Users/kipnisal/')\n",
    "from AuthAttLib.utils import n_most_frequent_words, to_docTermCounts\n",
    "from AuthAttLib.FreqTable import FreqTable\n",
    "from tqdm import *\n",
    "import logging\n",
    "from AuthAttLib.text_processing import remove_parts_of_speach"
   ]
  },
  {
   "cell_type": "code",
   "execution_count": 36,
   "metadata": {},
   "outputs": [],
   "source": [
    "data_file = '/Users/kipnisal/Data/PAN/pan20-authorship-verification-training-small/pairs.jsonl'\n",
    "ground_truth_file = '/Users/kipnisal/Data/PAN/pan20-authorship-verification-training-small/truth.jsonl'\n",
    "\n",
    "df = pd.read_json(data_file, lines=True)       \n",
    "dft = pd.read_json(ground_truth_file, lines=True)\n",
    "df_all = df.merge(dft, on = 'id', how = 'left')"
   ]
  },
  {
   "cell_type": "code",
   "execution_count": 37,
   "metadata": {},
   "outputs": [],
   "source": [
    "df_smp = df_all.sample(frac = 0.5)"
   ]
  },
  {
   "cell_type": "code",
   "execution_count": null,
   "metadata": {},
   "outputs": [],
   "source": [
    "#vocab = most_common_list_red[:vocab_size]\n",
    "NG_RANGE = (1, 1)\n",
    "VOCAB_SIZE = 5000\n",
    "most_freq = n_most_frequent_words(df_smp.pair.explode(), n=VOCAB_SIZE, ngram_range=NG_RANGE)\n",
    "pd.DataFrame({'token' : most_freq}).to_csv('~/authorship_verification_challenge/most_freq_NG{}.csv'.format(NG_RANGE))"
   ]
  },
  {
   "cell_type": "code",
   "execution_count": 38,
   "metadata": {},
   "outputs": [],
   "source": [
    "NG_RANGE = (1, 1)\n",
    "most_freq = pd.read_csv('~/authorship_verification_challenge/most_freq_NG{}.csv'.format(NG_RANGE)).token.tolist()"
   ]
  },
  {
   "cell_type": "code",
   "execution_count": 89,
   "metadata": {},
   "outputs": [],
   "source": [
    "# from google books:\n",
    "most_freq_go = pd.read_csv(\"~/Data/google-books-common-words.txt\", sep = '\\t', header=None\n",
    "                              ).iloc[:,0].str.lower().tolist()\n",
    "\n",
    "with open(\"/Users/kipnisal/Data/list_of_names.txt\", \"rt\") as f :\n",
    "    lo_names = f.read().strip('\\n').strip(',').split(', ')\n",
    "    "
   ]
  },
  {
   "cell_type": "code",
   "execution_count": 97,
   "metadata": {},
   "outputs": [
    {
     "data": {
      "text/plain": [
       "296"
      ]
     },
     "execution_count": 97,
     "metadata": {},
     "output_type": "execute_result"
    }
   ],
   "source": [
    "# best: 300\n",
    "VOCAB_SIZE = 300\n",
    "vocab = [w for w in most_freq[:VOCAB_SIZE] if w not in lo_names]\n",
    "len(vocab)"
   ]
  },
  {
   "cell_type": "code",
   "execution_count": 100,
   "metadata": {},
   "outputs": [
    {
     "name": "stderr",
     "output_type": "stream",
     "text": [
      "  4%|▎         | 956/26297 [00:11<04:42, 89.67it/s]ERROR:root:Could not evaluate pair 0962ad59-9f4e-542b-8466-c2ff1fe2140a\n",
      "100%|██████████| 26297/26297 [05:37<00:00, 77.87it/s]\n"
     ]
    }
   ],
   "source": [
    "import warnings\n",
    "df_res = pd.DataFrame()\n",
    "\n",
    "k = 0\n",
    "\n",
    "for r in tqdm(df_smp.groupby('id')) :\n",
    "    txt1 = r[1].pair.values[0][0]\n",
    "    txt2 = r[1].pair.values[0][1]\n",
    "    auth1 = r[1].authors.values[0][0]\n",
    "    auth2 = r[1].authors.values[0][1]\n",
    "    fand1 = r[1].fandoms.values[0][0]\n",
    "    fand2 = r[1].fandoms.values[0][1]\n",
    "    same = r[1].same.values[0]\n",
    "    pair_id = r[1].id.values[0]\n",
    "    \n",
    "    warnings.filterwarnings('ignore')\n",
    "    if (len(txt1) > 0 ) & (len(txt2) > 3) :\n",
    "#         dtc, feat = to_docTermCounts([txt1, txt2], max_features=vocab_size,\n",
    "#                                      ngram_range=(1,3),\n",
    "#                                      words_to_ignore=fand_feat[:k]\n",
    "#                                     )\n",
    "\n",
    "        dtc, feat = to_docTermCounts([txt1, txt2], ngram_range=NG_RANGE, vocab=vocab)\n",
    "        \n",
    "        ft = FreqTable(dtc, column_labels=feat, row_labels=['smp1', 'smp2'], gamma=0.35)\n",
    "        try :\n",
    "            ft1 = ft.get_row_as_FreqTable('smp1')\n",
    "            ft2 = ft.get_row_as_FreqTable('smp2')\n",
    "        except :\n",
    "            logging.error(f\"Could not evaluate pair {r[0]}\")\n",
    "            continue\n",
    "        hc = ft1.get_HC(ft2)\n",
    "        chisq = ft1.get_ChiSquare(ft2)\n",
    "        cosine = ft1.get_CosineSim(ft2)\n",
    "        CR = ft1.get_ChiSquare(ft2, lambda_ = \"cressie-read\")\n",
    "        G = ft1.get_ChiSquare(ft2, lambda_ = \"log-likelihood\")\n",
    "        df_res = df_res.append({'id' : pair_id,\n",
    "                                'same' : same,\n",
    "                                'authors' : (auth1, auth2),\n",
    "                                'HC' : hc,\n",
    "                                'chisq' : chisq[0],\n",
    "                                'cosine' : cosine,\n",
    "                                'CR' : CR[0],\n",
    "                                'G' : G[0],\n",
    "                                'ng_range' : NG_RANGE,\n",
    "                               }, ignore_index = True)\n",
    "    else :\n",
    "        print(\"bad data at record: \",r[0])\n",
    "warnings.filterwarnings('default')"
   ]
  },
  {
   "cell_type": "code",
   "execution_count": 101,
   "metadata": {},
   "outputs": [
    {
     "name": "stdout",
     "output_type": "stream",
     "text": [
      "AUC of HC is 0.8723702608298928\n",
      "AUC of chisq is 0.8604462453837637\n",
      "AUC of G is 0.8595988763038289\n",
      "AUC of cosine is 0.8152044817454671\n",
      "AUC of CR is 0.8603097018656769\n"
     ]
    },
    {
     "name": "stderr",
     "output_type": "stream",
     "text": [
      "/usr/local/lib/python3.8/site-packages/plotnine/utils.py:1246: FutureWarning: is_categorical is deprecated and will be removed in a future version.  Use is_categorical_dtype instead\n",
      "/usr/local/lib/python3.8/site-packages/plotnine/guides/guide_legend.py:302: DeprecationWarning: `np.float` is a deprecated alias for the builtin `float`. To silence this warning, use `float` by itself. Doing this will not modify any behavior and is safe. If you specifically wanted the numpy scalar type, use `np.float64` here.\n",
      "Deprecated in NumPy 1.20; for more details and guidance: https://numpy.org/devdocs/release/1.20.0-notes.html#deprecations\n"
     ]
    },
    {
     "data": {
      "image/png": "[encoded data removed]",
      "text/plain": [
       "<Figure size 640x480 with 1 Axes>"
      ]
     },
     "metadata": {},
     "output_type": "display_data"
    },
    {
     "data": {
      "text/plain": [
       "<ggplot: (348229786)>"
      ]
     },
     "execution_count": 101,
     "metadata": {},
     "output_type": "execute_result"
    }
   ],
   "source": [
    "import numpy as np\n",
    "import sklearn\n",
    "\n",
    "qq = np.linspace(0.01,0.99,100)\n",
    "\n",
    "list_of_colors = ['r', 'b','orange','gray','c']\n",
    "df = pd.DataFrame()\n",
    "for i,value in enumerate(['HC', 'chisq', 'G', 'cosine', 'CR']) :\n",
    "    values = []\n",
    "    for q in qq :\n",
    "        FDR = q\n",
    "        thr = df_res[df_res.same == False][value].quantile(q)\n",
    "        TDR = [np.mean(df_res[df_res.same == True][value] < thr)]\n",
    "        df = df.append({ 'value' : value, 'FDR' : q, 'TDR' : TDR[0], 'thr' : thr}, ignore_index=True\n",
    "                      )\n",
    "    print(f\"AUC of {value} is {sklearn.metrics.roc_auc_score(1-df_res.same, df_res[value])}\")\n",
    "    p = ggplot(aes(x = 'FDR', y='TDR', color='value'), data = df) + geom_line()\n",
    "p"
   ]
  },
  {
   "cell_type": "markdown",
   "metadata": {},
   "source": [
    "# Evaluation"
   ]
  },
  {
   "cell_type": "code",
   "execution_count": null,
   "metadata": {},
   "outputs": [],
   "source": [
    "ground_truth_file = \"~/Data/PAN/pan20-authorship-verification-training-small/truth.jsonl\"\n",
    "dft = pd.read_json(ground_truth_file, lines=True)\n",
    "predictions = pd.read_json(\"./predictions.jsonl\", lines=True)\n",
    "df_all = dft.merge(predictions, on = 'id', how = 'left').dropna()"
   ]
  },
  {
   "cell_type": "code",
   "execution_count": 56,
   "metadata": {},
   "outputs": [
    {
     "data": {
      "text/plain": [
       "['blue/green/red_count_30', '']"
      ]
     },
     "execution_count": 56,
     "metadata": {},
     "output_type": "execute_result"
    }
   ],
   "source": [
    "\"blue/green/red_count_30.pkl\".split('.pkl')"
   ]
  },
  {
   "cell_type": "code",
   "execution_count": null,
   "metadata": {},
   "outputs": [],
   "source": []
  }
 ],
 "metadata": {
  "kernelspec": {
   "display_name": "Python 3",
   "language": "python",
   "name": "python3"
  },
  "language_info": {
   "codemirror_mode": {
    "name": "ipython",
    "version": 3
   },
   "file_extension": ".py",
   "mimetype": "text/x-python",
   "name": "python",
   "nbconvert_exporter": "python",
   "pygments_lexer": "ipython3",
   "version": "3.8.5"
  }
 },
 "nbformat": 4,
 "nbformat_minor": 2
}
